{
 "cells": [
  {
   "cell_type": "code",
   "execution_count": 1,
   "id": "8133341b",
   "metadata": {},
   "outputs": [
    {
     "name": "stdout",
     "output_type": "stream",
     "text": [
      "Dash app running on http://127.0.0.1:8050/\n"
     ]
    },
    {
     "data": {
      "text/html": [
       "\n",
       "        <iframe\n",
       "            width=\"100%\"\n",
       "            height=\"650\"\n",
       "            src=\"http://127.0.0.1:8050/\"\n",
       "            frameborder=\"0\"\n",
       "            allowfullscreen\n",
       "            \n",
       "        ></iframe>\n",
       "        "
      ],
      "text/plain": [
       "<IPython.lib.display.IFrame at 0x1fa7aff9150>"
      ]
     },
     "metadata": {},
     "output_type": "display_data"
    }
   ],
   "source": [
    "from dash import Dash, dcc, html, Output, Input, jupyter_dash\n",
    "import dash_bootstrap_components as dbc\n",
    "import plotly.express as px\n",
    "import pandas as pd\n",
    "\n",
    "\n",
    "df = pd.read_csv(r\"C:\\Users\\Phil\\Documents\\PHELUCIAM\\DATA SETS\\DATA\\listings1.csv\")\n",
    "\n",
    "\n",
    "app = Dash(__name__, external_stylesheets = [dbc.themes.BOOTSTRAP])\n",
    "\n",
    "app.layout = dbc.Container([\n",
    "    dbc.Row([\n",
    "        dbc.Col([\n",
    "            dcc.Markdown('# Mexico Airbnb Analysis', style = {'textAlign': 'center'})\n",
    "        ], width = 18)\n",
    "    ]),\n",
    "    \n",
    "    dbc.Row([\n",
    "        dbc.Col([\n",
    "            dcc.Markdown('###### Select Minimum Nights'),\n",
    "            night_input := dcc.Input(type = 'number', value = 3, min = 1, max = 30)\n",
    "        ], width = 6),\n",
    "        \n",
    "        dbc.Col([\n",
    "            dcc.Markdown('###### Select Price Range'),\n",
    "            price_slider := dcc.RangeSlider(min = df.price.min(), max = 10000, value = [0, 2500], step = 500,\n",
    "                                           marks = {'0': '0', '500': '500', '1000': '1000',\n",
    "                                                   '2500': '2500', '5000': '5000',\n",
    "                                                   '7500': '7500', '10000': '10000'},\n",
    "                                           tooltip = {'placement': 'bottom', 'always_visible': True}\n",
    "                                           )\n",
    "        ], width = 6)\n",
    "    ]),\n",
    "    \n",
    "    dbc.Row([\n",
    "        dbc.Col([\n",
    "            gr := dcc.Graph(figure = {})\n",
    "        ], width = 12)\n",
    "    ])\n",
    "])\n",
    "\n",
    "\n",
    "@app.callback(\n",
    "    Output(gr, component_property = 'figure'),\n",
    "    Input(night_input, 'value'),\n",
    "    Input(price_slider, 'value')\n",
    ")\n",
    "\n",
    "def update_graph(nights_value, prices_value):\n",
    "    dff = df[df.minimum_nights >= nights_value]\n",
    "    dff = dff[(dff.price > prices_value[0]) & (dff.price < prices_value[1])]\n",
    "    \n",
    "    fig = px.scatter_mapbox(data_frame = dff, lat = 'latitude', lon = 'longitude', color = 'price', height = 600,\n",
    "                           range_color = [0, 1000], zoom = 11, color_continuous_scale = px.colors.sequential.Sunset,\n",
    "                           hover_data = {'latitude': False, 'longitude': False, 'room_type': True,\n",
    "                           'minimum_nights': True})\n",
    "    fig.update_layout(mapbox_style = 'carto-positron')\n",
    "    \n",
    "    return fig\n",
    "\n",
    "\n",
    "if __name__ == '__main__':\n",
    "    app.run(jupyter_mode = 'external')\n",
    "    app.run_server(debug = False)"
   ]
  }
 ],
 "metadata": {
  "kernelspec": {
   "display_name": "Python 3 (ipykernel)",
   "language": "python",
   "name": "python3"
  },
  "language_info": {
   "codemirror_mode": {
    "name": "ipython",
    "version": 3
   },
   "file_extension": ".py",
   "mimetype": "text/x-python",
   "name": "python",
   "nbconvert_exporter": "python",
   "pygments_lexer": "ipython3",
   "version": "3.11.4"
  }
 },
 "nbformat": 4,
 "nbformat_minor": 5
}
